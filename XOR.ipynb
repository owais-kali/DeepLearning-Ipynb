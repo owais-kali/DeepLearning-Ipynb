{
 "cells": [
  {
   "cell_type": "code",
   "execution_count": 2,
   "metadata": {},
   "outputs": [],
   "source": [
    "import numpy as np\n",
    "import matplotlib.pyplot as plt"
   ]
  },
  {
   "cell_type": "code",
   "execution_count": null,
   "metadata": {},
   "outputs": [],
   "source": [
    "# Neural Network for solving XOR Problem\n",
    "# 1 1 --> 0\n",
    "# 1 0 --> 1\n",
    "# 0 1 --> 1\n",
    "# 0 0 --> 0"
   ]
  },
  {
   "cell_type": "code",
   "execution_count": 3,
   "metadata": {},
   "outputs": [],
   "source": [
    "def sigmoid(x):\n",
    "    return 1 / (1 + np.exp(-x))\n",
    "\n",
    "def sigmoid_deriv(x):\n",
    "    return sigmoid(x)*(1-sigmoid(x))\n",
    "\n",
    "def forward(x, w1, w2, predict=False):\n",
    "    a1 = np.matmul(x, w1)\n",
    "    z1 = sigmoid(a1)\n",
    "\n",
    "    # create and add bias\n",
    "    bias = np.ones((len(z1), 1))\n",
    "    z1 = np.concatenate((bias, z1), axis=1)\n",
    "    a2 = np.matmul(z1, w2)\n",
    "    z2 = sigmoid(a2)\n",
    "    if predict:\n",
    "        return z2\n",
    "    return a1, z1, a2, z2\n",
    "\n",
    "def backprop(a2, z0, z1, z2, y):\n",
    "\n",
    "    delta2 = z2 - y\n",
    "    Delta2 = np.matmul(z1.T, delta2)\n",
    "    delta1 = (delta2.dot(w2[1:,:].T))*sigmoid_deriv(a1)\n",
    "    Delta1 = np.matmul(z0.T, delta1)\n",
    "    return delta2, Delta1, Delta2"
   ]
  }
 ],
 "metadata": {
  "kernelspec": {
   "display_name": "Python 3",
   "language": "python",
   "name": "python3"
  },
  "language_info": {
   "codemirror_mode": {
    "name": "ipython",
    "version": 3
   },
   "file_extension": ".py",
   "mimetype": "text/x-python",
   "name": "python",
   "nbconvert_exporter": "python",
   "pygments_lexer": "ipython3",
   "version": "3.10.6"
  },
  "orig_nbformat": 4
 },
 "nbformat": 4,
 "nbformat_minor": 2
}
